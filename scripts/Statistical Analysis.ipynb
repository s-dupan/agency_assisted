{
 "cells": [
  {
   "cell_type": "code",
   "execution_count": 29,
   "id": "782d0d10",
   "metadata": {},
   "outputs": [],
   "source": [
    "import os\n",
    "import h5py\n",
    "import pandas as pd\n",
    "import numpy as np\n",
    "import matplotlib.pyplot as plt\n",
    "import seaborn as sns\n",
    "from sklearn.metrics import confusion_matrix"
   ]
  },
  {
   "cell_type": "code",
   "execution_count": 30,
   "id": "8708a56c",
   "metadata": {},
   "outputs": [],
   "source": [
    "current_directory = os.getcwd()\n",
    "\n",
    "# Find the folder containing the participant data\n",
    "# EMGfolder = os.path.join(os.getcwd(), \"SN000\\control_20240123161947\\\\\")\n",
    "# controlfolder = os.path.join(os.getcwd(), \"SN000\\control_20240123163044\\\\\")\n",
    "\n",
    "# EMGdata_raw = h5py.File(EMGfolder + 'data_raw.hdf5')\n",
    "# EMGdata_process = h5py.File(EMGfolder + 'data_proc.hdf5')\n",
    "# EMGtrials = pd.read_csv(EMGfolder + 'trials.csv')\n",
    "\n",
    "# controldata_raw = h5py.File(controlfolder + 'data_raw.hdf5')\n",
    "# controldata_process = h5py.File(controlfolder + 'data_proc.hdf5')\n",
    "# controltrials = pd.read_csv(controlfolder + 'trials.csv')\n",
    "\n",
    "# EMGtrials"
   ]
  },
  {
   "cell_type": "code",
   "execution_count": 31,
   "id": "7c005c05",
   "metadata": {},
   "outputs": [],
   "source": [
    "# score = 'score'  \n",
    "# soa = 'soa'\n",
    "# trial = 'trial'\n",
    "# noise = 'noise'\n",
    "\n",
    "# plt.figure(figsize=(10, 6))\n",
    "# plt.scatter(EMGtrials[noise], EMGtrials[soa])\n",
    "# # plt.plot(EMGtrials[trial], EMGtrials[soa], label=soa)\n",
    "\n",
    "# plt.title(f'{soa} vs {noise}')\n",
    "# plt.xlabel(noise)\n",
    "# plt.ylabel('Sense of Agency')\n",
    "# plt.legend()\n",
    "# plt.grid(True)\n",
    "# plt.show()"
   ]
  },
  {
   "cell_type": "code",
   "execution_count": 32,
   "id": "55c45320",
   "metadata": {},
   "outputs": [
    {
     "name": "stdout",
     "output_type": "stream",
     "text": [
      "['data\\\\SN001\\\\control_20240208102019', 'data\\\\SN001\\\\control_20240208102347', 'data\\\\SN001\\\\control_20240208102533', 'data\\\\SN001\\\\control_20240208102849', 'data\\\\SN001\\\\control_20240208103603', 'data\\\\SN001\\\\control_20240208104226', 'data\\\\SN001\\\\control_20240208104846']\n",
      "['data\\\\SN001\\\\control_20240208102019', 'data\\\\SN001\\\\control_20240208102347', 'data\\\\SN001\\\\control_20240208102533', 'data\\\\SN001\\\\control_20240208102849', 'data\\\\SN001\\\\control_20240208103603', 'data\\\\SN001\\\\control_20240208104226', 'data\\\\SN001\\\\control_20240208104846']\n",
      "['data\\\\SN001\\\\control_20240208102019', 'data\\\\SN001\\\\control_20240208102347', 'data\\\\SN001\\\\control_20240208102533', 'data\\\\SN001\\\\control_20240208102849', 'data\\\\SN001\\\\control_20240208103603', 'data\\\\SN001\\\\control_20240208104226', 'data\\\\SN001\\\\control_20240208104846']\n",
      "['data\\\\SN001\\\\control_20240208102019', 'data\\\\SN001\\\\control_20240208102347', 'data\\\\SN001\\\\control_20240208102533', 'data\\\\SN001\\\\control_20240208102849', 'data\\\\SN001\\\\control_20240208103603', 'data\\\\SN001\\\\control_20240208104226', 'data\\\\SN001\\\\control_20240208104846']\n",
      "['data\\\\SN001\\\\control_20240208102019', 'data\\\\SN001\\\\control_20240208102347', 'data\\\\SN001\\\\control_20240208102533', 'data\\\\SN001\\\\control_20240208102849', 'data\\\\SN001\\\\control_20240208103603', 'data\\\\SN001\\\\control_20240208104226', 'data\\\\SN001\\\\control_20240208104846']\n",
      "['data\\\\SN001\\\\control_20240208102019', 'data\\\\SN001\\\\control_20240208102347', 'data\\\\SN001\\\\control_20240208102533', 'data\\\\SN001\\\\control_20240208102849', 'data\\\\SN001\\\\control_20240208103603', 'data\\\\SN001\\\\control_20240208104226', 'data\\\\SN001\\\\control_20240208104846']\n",
      "['data\\\\SN001\\\\control_20240208102019', 'data\\\\SN001\\\\control_20240208102347', 'data\\\\SN001\\\\control_20240208102533', 'data\\\\SN001\\\\control_20240208102849', 'data\\\\SN001\\\\control_20240208103603', 'data\\\\SN001\\\\control_20240208104226', 'data\\\\SN001\\\\control_20240208104846']\n",
      "['data\\\\SN002\\\\control_20240208110649', 'data\\\\SN002\\\\control_20240208110841', 'data\\\\SN002\\\\control_20240208111049', 'data\\\\SN002\\\\control_20240208111643', 'data\\\\SN002\\\\control_20240208112222', 'data\\\\SN002\\\\control_20240208112805']\n",
      "['data\\\\SN002\\\\control_20240208110649', 'data\\\\SN002\\\\control_20240208110841', 'data\\\\SN002\\\\control_20240208111049', 'data\\\\SN002\\\\control_20240208111643', 'data\\\\SN002\\\\control_20240208112222', 'data\\\\SN002\\\\control_20240208112805']\n",
      "['data\\\\SN002\\\\control_20240208110649', 'data\\\\SN002\\\\control_20240208110841', 'data\\\\SN002\\\\control_20240208111049', 'data\\\\SN002\\\\control_20240208111643', 'data\\\\SN002\\\\control_20240208112222', 'data\\\\SN002\\\\control_20240208112805']\n",
      "['data\\\\SN002\\\\control_20240208110649', 'data\\\\SN002\\\\control_20240208110841', 'data\\\\SN002\\\\control_20240208111049', 'data\\\\SN002\\\\control_20240208111643', 'data\\\\SN002\\\\control_20240208112222', 'data\\\\SN002\\\\control_20240208112805']\n",
      "['data\\\\SN002\\\\control_20240208110649', 'data\\\\SN002\\\\control_20240208110841', 'data\\\\SN002\\\\control_20240208111049', 'data\\\\SN002\\\\control_20240208111643', 'data\\\\SN002\\\\control_20240208112222', 'data\\\\SN002\\\\control_20240208112805']\n",
      "['data\\\\SN002\\\\control_20240208110649', 'data\\\\SN002\\\\control_20240208110841', 'data\\\\SN002\\\\control_20240208111049', 'data\\\\SN002\\\\control_20240208111643', 'data\\\\SN002\\\\control_20240208112222', 'data\\\\SN002\\\\control_20240208112805']\n",
      "['data\\\\SN003\\\\control_20240212115243', 'data\\\\SN003\\\\control_20240212115437', 'data\\\\SN003\\\\control_20240212115611', 'data\\\\SN003\\\\control_20240212115946', 'data\\\\SN003\\\\control_20240212120603', 'data\\\\SN003\\\\control_20240212121248', 'data\\\\SN003\\\\control_20240212121959']\n",
      "['data\\\\SN003\\\\control_20240212115243', 'data\\\\SN003\\\\control_20240212115437', 'data\\\\SN003\\\\control_20240212115611', 'data\\\\SN003\\\\control_20240212115946', 'data\\\\SN003\\\\control_20240212120603', 'data\\\\SN003\\\\control_20240212121248', 'data\\\\SN003\\\\control_20240212121959']\n",
      "['data\\\\SN003\\\\control_20240212115243', 'data\\\\SN003\\\\control_20240212115437', 'data\\\\SN003\\\\control_20240212115611', 'data\\\\SN003\\\\control_20240212115946', 'data\\\\SN003\\\\control_20240212120603', 'data\\\\SN003\\\\control_20240212121248', 'data\\\\SN003\\\\control_20240212121959']\n",
      "['data\\\\SN003\\\\control_20240212115243', 'data\\\\SN003\\\\control_20240212115437', 'data\\\\SN003\\\\control_20240212115611', 'data\\\\SN003\\\\control_20240212115946', 'data\\\\SN003\\\\control_20240212120603', 'data\\\\SN003\\\\control_20240212121248', 'data\\\\SN003\\\\control_20240212121959']\n",
      "['data\\\\SN003\\\\control_20240212115243', 'data\\\\SN003\\\\control_20240212115437', 'data\\\\SN003\\\\control_20240212115611', 'data\\\\SN003\\\\control_20240212115946', 'data\\\\SN003\\\\control_20240212120603', 'data\\\\SN003\\\\control_20240212121248', 'data\\\\SN003\\\\control_20240212121959']\n",
      "['data\\\\SN003\\\\control_20240212115243', 'data\\\\SN003\\\\control_20240212115437', 'data\\\\SN003\\\\control_20240212115611', 'data\\\\SN003\\\\control_20240212115946', 'data\\\\SN003\\\\control_20240212120603', 'data\\\\SN003\\\\control_20240212121248', 'data\\\\SN003\\\\control_20240212121959']\n",
      "['data\\\\SN003\\\\control_20240212115243', 'data\\\\SN003\\\\control_20240212115437', 'data\\\\SN003\\\\control_20240212115611', 'data\\\\SN003\\\\control_20240212115946', 'data\\\\SN003\\\\control_20240212120603', 'data\\\\SN003\\\\control_20240212121248', 'data\\\\SN003\\\\control_20240212121959']\n"
     ]
    },
    {
     "data": {
      "text/html": [
       "<div>\n",
       "<style scoped>\n",
       "    .dataframe tbody tr th:only-of-type {\n",
       "        vertical-align: middle;\n",
       "    }\n",
       "\n",
       "    .dataframe tbody tr th {\n",
       "        vertical-align: top;\n",
       "    }\n",
       "\n",
       "    .dataframe thead th {\n",
       "        text-align: right;\n",
       "    }\n",
       "</style>\n",
       "<table border=\"1\" class=\"dataframe\">\n",
       "  <thead>\n",
       "    <tr style=\"text-align: right;\">\n",
       "      <th></th>\n",
       "      <th>SN</th>\n",
       "      <th>BN</th>\n",
       "      <th>noise</th>\n",
       "      <th>block</th>\n",
       "      <th>trial</th>\n",
       "      <th>emg</th>\n",
       "      <th>score</th>\n",
       "      <th>soa</th>\n",
       "      <th>sao</th>\n",
       "    </tr>\n",
       "  </thead>\n",
       "  <tbody>\n",
       "    <tr>\n",
       "      <th>0</th>\n",
       "      <td>1</td>\n",
       "      <td>1</td>\n",
       "      <td>0.0</td>\n",
       "      <td>0</td>\n",
       "      <td>0</td>\n",
       "      <td>1</td>\n",
       "      <td>0.474175</td>\n",
       "      <td>NaN</td>\n",
       "      <td>NaN</td>\n",
       "    </tr>\n",
       "    <tr>\n",
       "      <th>1</th>\n",
       "      <td>1</td>\n",
       "      <td>1</td>\n",
       "      <td>0.0</td>\n",
       "      <td>0</td>\n",
       "      <td>1</td>\n",
       "      <td>1</td>\n",
       "      <td>0.551014</td>\n",
       "      <td>NaN</td>\n",
       "      <td>NaN</td>\n",
       "    </tr>\n",
       "    <tr>\n",
       "      <th>2</th>\n",
       "      <td>1</td>\n",
       "      <td>1</td>\n",
       "      <td>0.0</td>\n",
       "      <td>0</td>\n",
       "      <td>2</td>\n",
       "      <td>1</td>\n",
       "      <td>0.506689</td>\n",
       "      <td>NaN</td>\n",
       "      <td>NaN</td>\n",
       "    </tr>\n",
       "    <tr>\n",
       "      <th>3</th>\n",
       "      <td>1</td>\n",
       "      <td>1</td>\n",
       "      <td>0.0</td>\n",
       "      <td>0</td>\n",
       "      <td>3</td>\n",
       "      <td>1</td>\n",
       "      <td>0.575675</td>\n",
       "      <td>NaN</td>\n",
       "      <td>NaN</td>\n",
       "    </tr>\n",
       "    <tr>\n",
       "      <th>4</th>\n",
       "      <td>1</td>\n",
       "      <td>2</td>\n",
       "      <td>0.0</td>\n",
       "      <td>0</td>\n",
       "      <td>0</td>\n",
       "      <td>1</td>\n",
       "      <td>0.444715</td>\n",
       "      <td>NaN</td>\n",
       "      <td>NaN</td>\n",
       "    </tr>\n",
       "    <tr>\n",
       "      <th>...</th>\n",
       "      <td>...</td>\n",
       "      <td>...</td>\n",
       "      <td>...</td>\n",
       "      <td>...</td>\n",
       "      <td>...</td>\n",
       "      <td>...</td>\n",
       "      <td>...</td>\n",
       "      <td>...</td>\n",
       "      <td>...</td>\n",
       "    </tr>\n",
       "    <tr>\n",
       "      <th>267</th>\n",
       "      <td>3</td>\n",
       "      <td>7</td>\n",
       "      <td>0.1</td>\n",
       "      <td>0</td>\n",
       "      <td>15</td>\n",
       "      <td>0</td>\n",
       "      <td>0.940684</td>\n",
       "      <td>9.0</td>\n",
       "      <td>NaN</td>\n",
       "    </tr>\n",
       "    <tr>\n",
       "      <th>268</th>\n",
       "      <td>3</td>\n",
       "      <td>7</td>\n",
       "      <td>0.1</td>\n",
       "      <td>0</td>\n",
       "      <td>16</td>\n",
       "      <td>0</td>\n",
       "      <td>0.929729</td>\n",
       "      <td>8.0</td>\n",
       "      <td>NaN</td>\n",
       "    </tr>\n",
       "    <tr>\n",
       "      <th>269</th>\n",
       "      <td>3</td>\n",
       "      <td>7</td>\n",
       "      <td>0.3</td>\n",
       "      <td>0</td>\n",
       "      <td>17</td>\n",
       "      <td>0</td>\n",
       "      <td>0.849529</td>\n",
       "      <td>7.0</td>\n",
       "      <td>NaN</td>\n",
       "    </tr>\n",
       "    <tr>\n",
       "      <th>270</th>\n",
       "      <td>3</td>\n",
       "      <td>7</td>\n",
       "      <td>0.3</td>\n",
       "      <td>0</td>\n",
       "      <td>18</td>\n",
       "      <td>0</td>\n",
       "      <td>0.885559</td>\n",
       "      <td>8.0</td>\n",
       "      <td>NaN</td>\n",
       "    </tr>\n",
       "    <tr>\n",
       "      <th>271</th>\n",
       "      <td>3</td>\n",
       "      <td>7</td>\n",
       "      <td>0.0</td>\n",
       "      <td>0</td>\n",
       "      <td>19</td>\n",
       "      <td>0</td>\n",
       "      <td>0.905341</td>\n",
       "      <td>8.0</td>\n",
       "      <td>NaN</td>\n",
       "    </tr>\n",
       "  </tbody>\n",
       "</table>\n",
       "<p>272 rows × 9 columns</p>\n",
       "</div>"
      ],
      "text/plain": [
       "     SN  BN  noise  block  trial  emg     score  soa  sao\n",
       "0     1   1    0.0      0      0    1  0.474175  NaN  NaN\n",
       "1     1   1    0.0      0      1    1  0.551014  NaN  NaN\n",
       "2     1   1    0.0      0      2    1  0.506689  NaN  NaN\n",
       "3     1   1    0.0      0      3    1  0.575675  NaN  NaN\n",
       "4     1   2    0.0      0      0    1  0.444715  NaN  NaN\n",
       "..   ..  ..    ...    ...    ...  ...       ...  ...  ...\n",
       "267   3   7    0.1      0     15    0  0.940684  9.0  NaN\n",
       "268   3   7    0.1      0     16    0  0.929729  8.0  NaN\n",
       "269   3   7    0.3      0     17    0  0.849529  7.0  NaN\n",
       "270   3   7    0.3      0     18    0  0.885559  8.0  NaN\n",
       "271   3   7    0.0      0     19    0  0.905341  8.0  NaN\n",
       "\n",
       "[272 rows x 9 columns]"
      ]
     },
     "execution_count": 32,
     "metadata": {},
     "output_type": "execute_result"
    }
   ],
   "source": [
    "# Read in training data\n",
    "# data to read in: SN, BN\n",
    "data = []\n",
    "\n",
    "# participants\n",
    "participants = ('SN001', 'SN002', 'SN003')\n",
    "\n",
    "SN=0\n",
    "for p in participants:\n",
    "    SN = SN+1\n",
    "    root_subject = os.path.join('data', p)\n",
    "    control_folders = [f.path for f in os.scandir(root_subject) if f.is_dir() and f.name.startswith('control')]\n",
    "    BN = 0\n",
    "    for b in control_folders:\n",
    "        fb = []\n",
    "        # uncommnent if you read in everything\n",
    "        BN = BN+1\n",
    "        if os.path.isfile(os.path.join(b, 'trials.csv')):\n",
    "            data_temp = pd.read_csv(os.path.join(b, 'trials.csv'),)\n",
    "            data_temp.insert(0,'BN', BN)\n",
    "            data_temp.insert(0,'SN',SN)\n",
    "            # data_row = [SN, BN, data_temp]\n",
    "            # data.append(data_row)\n",
    "            data.append(data_temp)            # pd.concat([data, data_row])\n",
    "            print(control_folders)\n",
    "\n",
    "merged_df = pd.concat(data, ignore_index=True)                        \n",
    "merged_df"
   ]
  },
  {
   "cell_type": "code",
   "execution_count": 33,
   "metadata": {},
   "outputs": [],
   "source": [
    "# Need to merge into one data frame\n",
    "\n",
    "# list_of_dataframes = []\n",
    "# for folder_path in control_folders:\n",
    "#     if os.path.isdir(folder_path):\n",
    "#         file_path = os.path.join(folder_path, 'trials.csv')\n",
    "#         if os.path.isfile(file_path):\n",
    "#             print(file_path)\n",
    "#             list_of_dataframes.append(pd.read_csv(file_path))\n",
    "\n",
    "# merged_df = pd.concat(list_of_dataframes, ignore_index=True)\n",
    "# merged_df"
   ]
  },
  {
   "cell_type": "code",
   "execution_count": 34,
   "id": "6fae88f5",
   "metadata": {},
   "outputs": [
    {
     "data": {
      "image/png": "[encoded data removed]",
      "text/plain": [
       "<Figure size 720x432 with 1 Axes>"
      ]
     },
     "metadata": {
      "needs_background": "light"
     },
     "output_type": "display_data"
    },
    {
     "data": {
      "image/png": "[encoded data removed]",
      "text/plain": [
       "<Figure size 720x432 with 1 Axes>"
      ]
     },
     "metadata": {
      "needs_background": "light"
     },
     "output_type": "display_data"
    },
    {
     "data": {
      "image/png": "[encoded data removed]",
      "text/plain": [
       "<Figure size 432x288 with 1 Axes>"
      ]
     },
     "metadata": {
      "needs_background": "light"
     },
     "output_type": "display_data"
    },
    {
     "data": {
      "image/png": "[encoded data removed]",
      "text/plain": [
       "<Figure size 432x288 with 1 Axes>"
      ]
     },
     "metadata": {
      "needs_background": "light"
     },
     "output_type": "display_data"
    },
    {
     "data": {
      "image/png": "[encoded data removed]",
      "text/plain": [
       "<Figure size 432x288 with 1 Axes>"
      ]
     },
     "metadata": {
      "needs_background": "light"
     },
     "output_type": "display_data"
    },
    {
     "data": {
      "image/png": "[encoded data removed]",
      "text/plain": [
       "<Figure size 432x288 with 1 Axes>"
      ]
     },
     "metadata": {
      "needs_background": "light"
     },
     "output_type": "display_data"
    },
    {
     "data": {
      "image/png": "[encoded data removed]",
      "text/plain": [
       "<Figure size 432x288 with 1 Axes>"
      ]
     },
     "metadata": {
      "needs_background": "light"
     },
     "output_type": "display_data"
    },
    {
     "data": {
      "image/png": "[encoded data removed]",
      "text/plain": [
       "<Figure size 720x432 with 1 Axes>"
      ]
     },
     "metadata": {
      "needs_background": "light"
     },
     "output_type": "display_data"
    }
   ],
   "source": [
    "score = 'score'  \n",
    "soa = 'soa'\n",
    "trial = 'trial'\n",
    "noise = 'noise'\n",
    "\n",
    "plt.figure(figsize=(10, 6))\n",
    "plt.scatter(merged_df[noise], merged_df[soa])\n",
    "\n",
    "plt.title(f'{soa} vs {noise}')\n",
    "plt.xlabel('Noise')\n",
    "plt.ylabel('Sense of Agency')\n",
    "plt.ylim((0,10))\n",
    "# plt.legend()\n",
    "# a, b = np.polyfit(merged_df[noise], merged_df[soa], 1)\n",
    "# plt.plot(merged_df[noise], a*(merged_df[noise])+b) \n",
    "plt.grid(True)\n",
    "plt.show()\n",
    "\n",
    "plt.figure(figsize=(10, 6))\n",
    "plt.scatter(merged_df[merged_df[\"emg\"]==0][noise], merged_df[merged_df[\"emg\"]==0][soa])\n",
    "\n",
    "plt.title(f'{soa} vs {noise}')\n",
    "plt.xlabel('Noise')\n",
    "plt.ylabel('Sense of Agency')\n",
    "plt.ylim((0,10))\n",
    "# plt.legend()\n",
    "# a, b = np.polyfit(merged_df[noise], merged_df[soa], 1)\n",
    "# plt.plot(merged_df[noise], a*(merged_df[noise])+b) \n",
    "plt.grid(True)\n",
    "plt.show()\n",
    "\n",
    "plt.figure()\n",
    "sns.boxplot(data=merged_df[merged_df[\"emg\"]==0], x=\"noise\", y=\"soa\", hue=\"SN\")\n",
    "\n",
    "plt.figure()\n",
    "sns.boxplot(data=merged_df[merged_df[\"emg\"]==1], x=\"noise\", y=\"soa\", hue=\"SN\")\n",
    "\n",
    "plt.figure()\n",
    "sns.boxplot(data=merged_df[merged_df[\"emg\"]==0], x=\"noise\", y=\"soa\")\n",
    "\n",
    "plt.figure()\n",
    "sns.boxplot(data=merged_df[merged_df[\"emg\"]==1], x=\"noise\", y=\"soa\")\n",
    "\n",
    "plt.figure()\n",
    "sns.boxplot(data=merged_df, x=\"noise\", y=\"soa\", hue=\"emg\")\n",
    "\n",
    "plt.figure(figsize=(10, 6))\n",
    "plt.scatter(merged_df[score], merged_df[soa])\n",
    "plt.title(f'{soa} vs {score}')\n",
    "plt.xlabel('Score')\n",
    "plt.ylabel('Sense of Agency')\n",
    "plt.ylim((0,10))\n",
    "# plt.legend()\n",
    "# a, b = np.polyfit(merged_df[score], merged_df[soa], 1)\n",
    "# plt.plot(merged_df[score], a*(merged_df[score])+b)   \n",
    "plt.grid(True)\n",
    "plt.show()"
   ]
  }
 ],
 "metadata": {
  "kernelspec": {
   "display_name": "Python 3 (ipykernel)",
   "language": "python",
   "name": "python3"
  },
  "language_info": {
   "codemirror_mode": {
    "name": "ipython",
    "version": 3
   },
   "file_extension": ".py",
   "mimetype": "text/x-python",
   "name": "python",
   "nbconvert_exporter": "python",
   "pygments_lexer": "ipython3",
   "version": "3.9.12"
  }
 },
 "nbformat": 4,
 "nbformat_minor": 5
}
